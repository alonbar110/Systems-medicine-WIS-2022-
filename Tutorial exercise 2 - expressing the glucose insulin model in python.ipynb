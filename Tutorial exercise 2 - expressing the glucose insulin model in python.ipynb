{
 "cells": [
  {
   "cell_type": "markdown",
   "id": "9a10396a",
   "metadata": {},
   "source": [
    "# Tutorial exercise 2 - expressing the glucose insulin model in python"
   ]
  },
  {
   "cell_type": "markdown",
   "id": "17dd501f",
   "metadata": {},
   "source": [
    "#### In this tutorial we will express two differential equations as python variables"
   ]
  },
  {
   "cell_type": "code",
   "execution_count": 2,
   "id": "12c2845b",
   "metadata": {},
   "outputs": [],
   "source": [
    "from sympy import * # importing sympy to python"
   ]
  },
  {
   "cell_type": "markdown",
   "id": "9861cad7",
   "metadata": {},
   "source": [
    "#### See the example to express insulin differential equation:\n",
    "We define the parameters as symbols"
   ]
  },
  {
   "cell_type": "code",
   "execution_count": 3,
   "id": "816c41eb",
   "metadata": {},
   "outputs": [
    {
     "data": {
      "text/latex": [
       "$\\displaystyle B$"
      ],
      "text/plain": [
       "B"
      ]
     },
     "metadata": {},
     "output_type": "display_data"
    },
    {
     "data": {
      "text/latex": [
       "$\\displaystyle \\gamma$"
      ],
      "text/plain": [
       "\\gamma"
      ]
     },
     "metadata": {},
     "output_type": "display_data"
    },
    {
     "data": {
      "text/latex": [
       "$\\displaystyle q$"
      ],
      "text/plain": [
       "q"
      ]
     },
     "metadata": {},
     "output_type": "display_data"
    },
    {
     "data": {
      "text/latex": [
       "$\\displaystyle I$"
      ],
      "text/plain": [
       "I"
      ]
     },
     "metadata": {},
     "output_type": "display_data"
    },
    {
     "data": {
      "text/latex": [
       "$\\displaystyle G$"
      ],
      "text/plain": [
       "G"
      ]
     },
     "metadata": {},
     "output_type": "display_data"
    }
   ],
   "source": [
    "B,gamma,q,I,G = symbols('B,\\gamma,q,I,G')\n",
    "display(B,gamma,q,I,G)"
   ]
  },
  {
   "cell_type": "markdown",
   "id": "beb50c5a",
   "metadata": {},
   "source": [
    "We define a variable fG to be some function $f$ of glucose $G$ :  $f(G)$"
   ]
  },
  {
   "cell_type": "code",
   "execution_count": 4,
   "id": "eebb20fe",
   "metadata": {},
   "outputs": [
    {
     "data": {
      "text/latex": [
       "$\\displaystyle f{\\left(G \\right)}$"
      ],
      "text/plain": [
       "f(G)"
      ]
     },
     "metadata": {},
     "output_type": "display_data"
    }
   ],
   "source": [
    "fG          = Function('f')(G)\n",
    "display(fG)"
   ]
  },
  {
   "cell_type": "markdown",
   "id": "e5016a53",
   "metadata": {},
   "source": [
    "We also define a varible to hold the expression $\\frac{dI}{dt}$\n",
    "\n",
    "$\\frac{dI}{dt}$ is the first deriviative of the function $I(t)$\n",
    "\n",
    "We will differentiate $I(t)$ with respect of $t$ to get $\\frac{dI}{dt}$"
   ]
  },
  {
   "cell_type": "code",
   "execution_count": 5,
   "id": "af6dd401",
   "metadata": {},
   "outputs": [
    {
     "data": {
      "text/latex": [
       "$\\displaystyle \\frac{dI}{dt}$"
      ],
      "text/plain": [
       "dI/dt"
      ]
     },
     "metadata": {},
     "output_type": "display_data"
    }
   ],
   "source": [
    "dI_dt       = symbols('dI')/symbols('dt')\n",
    "display(dI_dt)"
   ]
  },
  {
   "cell_type": "markdown",
   "id": "70cd0fea",
   "metadata": {},
   "source": [
    "We now can write the expression for insulin differential equation:\n",
    "$\\frac{dI}{dt} = qBf(G) - \\gamma I$"
   ]
  },
  {
   "cell_type": "code",
   "execution_count": 6,
   "id": "b3b15fe1",
   "metadata": {},
   "outputs": [
    {
     "data": {
      "text/latex": [
       "$\\displaystyle B q f{\\left(G \\right)} - I \\gamma$"
      ],
      "text/plain": [
       "B*q*f(G) - I*\\gamma"
      ]
     },
     "metadata": {},
     "output_type": "display_data"
    }
   ],
   "source": [
    "dI    = q*B*fG - gamma*I\n",
    "display(dI)"
   ]
  },
  {
   "cell_type": "markdown",
   "id": "3357da99",
   "metadata": {},
   "source": [
    "And display it as a differential equation"
   ]
  },
  {
   "cell_type": "markdown",
   "id": "f42bb1b9",
   "metadata": {},
   "source": [
    "In sympy, we can use 'Eq' function to create a symbolic equation\n",
    "- the first argument is the left hand side of the equation\n",
    "- the seconde argument is the right hand side"
   ]
  },
  {
   "cell_type": "code",
   "execution_count": 7,
   "id": "553df411",
   "metadata": {},
   "outputs": [
    {
     "data": {
      "text/latex": [
       "$\\displaystyle \\frac{dI}{dt} = B q f{\\left(G \\right)} - I \\gamma$"
      ],
      "text/plain": [
       "Eq(dI/dt, B*q*f(G) - I*\\gamma)"
      ]
     },
     "metadata": {},
     "output_type": "display_data"
    }
   ],
   "source": [
    "Ideq = Eq(dI_dt,dI)\n",
    "display(Ideq)"
   ]
  },
  {
   "cell_type": "markdown",
   "id": "fcd24e62",
   "metadata": {},
   "source": [
    "#### Now do the same for the glucose differential equation: $\\frac{dG}{dt} = m - sIG$\n",
    "\n",
    "Note that the order of the variables is usually alphabetical, the expected solution is $\\frac{dG}{dt} = -GIs +m$\n"
   ]
  },
  {
   "cell_type": "code",
   "execution_count": 8,
   "id": "e4c7477f",
   "metadata": {},
   "outputs": [
    {
     "data": {
      "text/latex": [
       "$\\displaystyle \\frac{dG}{dt} = - G I s + m$"
      ],
      "text/plain": [
       "Eq(dG/dt, -G*I*s + m)"
      ]
     },
     "metadata": {},
     "output_type": "display_data"
    }
   ],
   "source": [
    "s,m         = symbols('s,m') \n",
    "dG_dt       = symbols('dG')/symbols('dt')\n",
    "dG          = m - s*I*G\n",
    "Gdeq        = Eq(dG_dt,dG)\n",
    "display(Gdeq)"
   ]
  }
 ],
 "metadata": {
  "kernelspec": {
   "display_name": "Python 3 (ipykernel)",
   "language": "python",
   "name": "python3"
  },
  "language_info": {
   "codemirror_mode": {
    "name": "ipython",
    "version": 3
   },
   "file_extension": ".py",
   "mimetype": "text/x-python",
   "name": "python",
   "nbconvert_exporter": "python",
   "pygments_lexer": "ipython3",
   "version": "3.7.11"
  }
 },
 "nbformat": 4,
 "nbformat_minor": 5
}
