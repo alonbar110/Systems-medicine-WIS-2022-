{
 "cells": [
  {
   "cell_type": "markdown",
   "id": "f8cab366",
   "metadata": {},
   "source": [
    "# Tutorial exercise 5 - simulating GTT"
   ]
  },
  {
   "cell_type": "markdown",
   "id": "1b065437",
   "metadata": {},
   "source": [
    "#### In this tutorial we will integrate the previous exercises in order to simulate glucose tolerance test"
   ]
  },
  {
   "cell_type": "code",
   "execution_count": 1,
   "id": "cf640871",
   "metadata": {},
   "outputs": [],
   "source": [
    "from sympy import * # importing sympy to python\n",
    "import numpy as np\n",
    "from matplotlib import pyplot as plt"
   ]
  },
  {
   "cell_type": "markdown",
   "id": "67984f86",
   "metadata": {},
   "source": [
    "#### The differential equations for glucose and insulin are\n",
    "\n",
    "$\\frac{dG}{dt} = m - sIG$\n",
    "\n",
    "$\\frac{dI}{dt} = qBf(G) - \\gamma I$\n",
    "\n",
    "\n",
    "In this exmaple, we will use $f(G) = \\frac{G^2}{1+G^2}$"
   ]
  },
  {
   "cell_type": "markdown",
   "id": "0aa4b4eb",
   "metadata": {},
   "source": [
    "#### In order to simulate, we have to:"
   ]
  },
  {
   "cell_type": "markdown",
   "id": "2c5a316a",
   "metadata": {},
   "source": [
    "- Provide a numeric value for all the parameters\n",
    "\n",
    "    we will use $q=1, B=1, s=1, \\gamma=1, m=0.5$\n"
   ]
  },
  {
   "cell_type": "code",
   "execution_count": 4,
   "id": "848fa12c",
   "metadata": {},
   "outputs": [],
   "source": [
    "q       = 1\n",
    "B       = 1\n",
    "s       = 1\n",
    "gamma   = 1\n",
    "m       = 0.5"
   ]
  },
  {
   "cell_type": "markdown",
   "id": "801798f5",
   "metadata": {},
   "source": [
    "- Decide on the length of the simualtion, $L$, and the size of the time steps, $dt$\n",
    "\n",
    "    we will use $L = 15, dt = 0.1$ "
   ]
  },
  {
   "cell_type": "code",
   "execution_count": 5,
   "id": "e754b81f",
   "metadata": {},
   "outputs": [],
   "source": [
    "dt      = 0.1\n",
    "L       = 15\n",
    "t_range = np.arange(0,L,dt)"
   ]
  },
  {
   "cell_type": "markdown",
   "id": "2a24ee3c",
   "metadata": {},
   "source": [
    "- Choose inital condition - the values of $I$ and $G$ in the start of the simulation\n",
    "\n",
    "    We will start the simulation at steady state\n",
    "    \n",
    "    We can again find the steady state using 'solve'\n",
    "   "
   ]
  },
  {
   "cell_type": "code",
   "execution_count": 6,
   "id": "61532232",
   "metadata": {},
   "outputs": [],
   "source": [
    "I,G     = symbols('I,G',positive=True)\n",
    "dG      = m                 - s*I*G\n",
    "dI      = q*B*G**2/(1+G**2) - gamma*I\n",
    "\n",
    "Gst_numeric,Ist_numeric = solve([dG,dI],[G,I])[0]"
   ]
  },
  {
   "cell_type": "markdown",
   "id": "13cd1a47",
   "metadata": {},
   "source": [
    "#### Starting at steady state, we loop over the time-steps, calculate the change in both $G$ and $I$ and update their values\n",
    "\n",
    "We simulate the glucose tolerance test by adding a glucose input term $m(t)$ that rises and falls with time: $m(t) = 1+e^{-(t-5)^2}$"
   ]
  },
  {
   "cell_type": "code",
   "execution_count": 7,
   "id": "cdc31ca2",
   "metadata": {},
   "outputs": [],
   "source": [
    "t_range  = np.arange(0,L,dt)\n",
    "Gsol     = []\n",
    "Isol     = []\n",
    "\n",
    "G        = Gst_numeric\n",
    "I        = Ist_numeric\n",
    "\n",
    "for t in t_range:\n",
    "    \n",
    "    mt = 0.5+np.e**(-(t-5)**2)\n",
    "    \n",
    "    dG = mt                - s*I*G\n",
    "    dI = q*B*G**2/(1+G**2) - gamma*I\n",
    "    \n",
    "    G  = G + dG*dt\n",
    "    I  = I + dI*dt\n",
    "\n",
    "    Gsol.append(G)\n",
    "    Isol.append(I)"
   ]
  },
  {
   "cell_type": "code",
   "execution_count": 8,
   "id": "0b100e5b",
   "metadata": {},
   "outputs": [
    {
     "data": {
      "text/plain": [
       "Text(0.5, 0, 'time, t')"
      ]
     },
     "execution_count": 8,
     "metadata": {},
     "output_type": "execute_result"
    },
    {
     "data": {
      "image/png": "[encoded data removed]",
      "text/plain": [
       "<Figure size 432x288 with 1 Axes>"
      ]
     },
     "metadata": {
      "needs_background": "light"
     },
     "output_type": "display_data"
    }
   ],
   "source": [
    "plt.plot(t_range,Gsol)\n",
    "plt.plot(t_range,Isol)\n",
    "plt.legend(['G','I'])\n",
    "plt.xlabel('time, t')"
   ]
  },
  {
   "cell_type": "markdown",
   "id": "950e499d",
   "metadata": {},
   "source": [
    "We can divide each variable by its steady state to show their relative change"
   ]
  },
  {
   "cell_type": "code",
   "execution_count": 9,
   "id": "5d99d06d",
   "metadata": {},
   "outputs": [
    {
     "data": {
      "text/plain": [
       "Text(0.5, 0, 'time, t')"
      ]
     },
     "execution_count": 9,
     "metadata": {},
     "output_type": "execute_result"
    },
    {
     "data": {
      "image/png": "[encoded data removed]",
      "text/plain": [
       "<Figure size 432x288 with 1 Axes>"
      ]
     },
     "metadata": {
      "needs_background": "light"
     },
     "output_type": "display_data"
    }
   ],
   "source": [
    "plt.plot(t_range,np.array(Gsol)/Gst_numeric)\n",
    "plt.plot(t_range,np.array(Isol)/Ist_numeric)\n",
    "plt.legend(['G/Gst','I/Ist'])\n",
    "plt.xlabel('time, t')"
   ]
  },
  {
   "cell_type": "markdown",
   "id": "19d78683",
   "metadata": {},
   "source": [
    "## Next, we will use a different method to integrate the ODEs, using scipy's 'odeint' function (ordinary differntial equation integrator)\n",
    "\n",
    "#### Before we dive in to the code of the simualtion, lets get familiar with two new sympy functions: 'Matrix' and 'lambdify'\n",
    "\n",
    "We use 'Matrix' in order to hold all three equations in one variable"
   ]
  },
  {
   "cell_type": "code",
   "execution_count": 10,
   "id": "8f4fb4d7",
   "metadata": {},
   "outputs": [
    {
     "data": {
      "text/latex": [
       "$\\displaystyle \\left[\\begin{matrix}- G I s + m\\\\\\frac{B G^{2} q}{G^{2} + 1} - I \\gamma\\end{matrix}\\right]$"
      ],
      "text/plain": [
       "Matrix([\n",
       "[                    -G*I*s + m],\n",
       "[B*G**2*q/(G**2 + 1) - I*\\gamma]])"
      ]
     },
     "metadata": {},
     "output_type": "display_data"
    }
   ],
   "source": [
    "I,G,m,s,q,B,gamma = symbols('I,G,m,s,q,B,\\gamma',positive=True)\n",
    "\n",
    "dG      = m                 - s*I*G\n",
    "dI      = q*B*G**2/(1+G**2) - gamma*I\n",
    "model   = Matrix([dG,dI])\n",
    "display(model)"
   ]
  },
  {
   "cell_type": "markdown",
   "id": "aa3437c9",
   "metadata": {},
   "source": [
    "We store values for the parameters within a dictionary"
   ]
  },
  {
   "cell_type": "code",
   "execution_count": 11,
   "id": "a6b4778d",
   "metadata": {},
   "outputs": [],
   "source": [
    "parameter_values    = {gamma:1,m:0.5,q:1,s:1,B:1} "
   ]
  },
  {
   "cell_type": "markdown",
   "id": "0035715f",
   "metadata": {},
   "source": [
    "We use '.subs()' in order to substitute the parameters with the numerical values:"
   ]
  },
  {
   "cell_type": "code",
   "execution_count": 12,
   "id": "e9853a74",
   "metadata": {},
   "outputs": [
    {
     "data": {
      "text/latex": [
       "$\\displaystyle \\left[\\begin{matrix}- G I + 0.5\\\\\\frac{G^{2}}{G^{2} + 1} - I\\end{matrix}\\right]$"
      ],
      "text/plain": [
       "Matrix([\n",
       "[         -G*I + 0.5],\n",
       "[G**2/(G**2 + 1) - I]])"
      ]
     },
     "metadata": {},
     "output_type": "display_data"
    }
   ],
   "source": [
    "display(model.subs(parameter_values))"
   ]
  },
  {
   "cell_type": "markdown",
   "id": "8ab86d6c",
   "metadata": {},
   "source": [
    "We use solve in order to find the steady state.\n",
    "\n",
    "Because we gave numercial values for the parameters, the steady state will also be numeric\n",
    "\n",
    "We will use this steady state as the intial condition"
   ]
  },
  {
   "cell_type": "code",
   "execution_count": 13,
   "id": "abb486c9",
   "metadata": {},
   "outputs": [],
   "source": [
    "ic   = solve(model.subs(parameter_values),[G,I])[0]"
   ]
  },
  {
   "cell_type": "markdown",
   "id": "a40f5810",
   "metadata": {},
   "source": [
    "### Next, we want a method to calulate $(dG,dI)$ for a given set of parameter $(G,I)$"
   ]
  },
  {
   "cell_type": "markdown",
   "id": "3470c435",
   "metadata": {},
   "source": [
    "we can use '.subs()' in order to calculate the differential equations\n",
    "\n",
    "For example, if G=2, I=1, we can find dG,dI:"
   ]
  },
  {
   "cell_type": "code",
   "execution_count": 14,
   "id": "4a2337a1",
   "metadata": {},
   "outputs": [
    {
     "data": {
      "text/latex": [
       "$\\displaystyle \\left[\\begin{matrix}-1.5\\\\- \\frac{1}{5}\\end{matrix}\\right]$"
      ],
      "text/plain": [
       "Matrix([\n",
       "[-1.5],\n",
       "[-1/5]])"
      ]
     },
     "metadata": {},
     "output_type": "display_data"
    }
   ],
   "source": [
    "display(model.subs(parameter_values).subs({G:2,I:1}))"
   ]
  },
  {
   "cell_type": "markdown",
   "id": "ee484e84",
   "metadata": {},
   "source": [
    "#### However, there is a better way: 'lambdify'"
   ]
  },
  {
   "cell_type": "markdown",
   "id": "22abfb2d",
   "metadata": {},
   "source": [
    "lambdify takes our symbolic model and returns a python function:\n",
    "\n",
    "* The first argument is a list of the parameters that we want to use as input for the function\n",
    "* The second argument is a symbolic expression to turn into a function\n",
    "\n",
    "In the following example, we use lambdify in order to make a function 'func' that substracts 5 from a number:\n",
    "* $G - 5$ is the mathematical expression\n",
    "* $G$ is the input for the function"
   ]
  },
  {
   "cell_type": "code",
   "execution_count": 15,
   "id": "c1116e3d",
   "metadata": {},
   "outputs": [],
   "source": [
    "func = lambdify(G,G-5)"
   ]
  },
  {
   "cell_type": "markdown",
   "id": "ffc47794",
   "metadata": {},
   "source": [
    "When we pass 'func' the input $7$, it will return the solution of $G-5$ for $G=7$."
   ]
  },
  {
   "cell_type": "code",
   "execution_count": 16,
   "id": "802ad909",
   "metadata": {},
   "outputs": [
    {
     "data": {
      "text/plain": [
       "2"
      ]
     },
     "execution_count": 16,
     "metadata": {},
     "output_type": "execute_result"
    }
   ],
   "source": [
    "func(7)"
   ]
  },
  {
   "cell_type": "markdown",
   "id": "dbdf8a4f",
   "metadata": {},
   "source": [
    "'lambdify' can get more than one parameter, for example:"
   ]
  },
  {
   "cell_type": "code",
   "execution_count": 17,
   "id": "7181ebb9",
   "metadata": {},
   "outputs": [],
   "source": [
    "func = lambdify([G,I],G-I)"
   ]
  },
  {
   "cell_type": "markdown",
   "id": "11e6da5f",
   "metadata": {},
   "source": [
    "When we pass 'func' the inputs $7,2$, it will return the solution of $G-I$ for $G=7,I=2$."
   ]
  },
  {
   "cell_type": "code",
   "execution_count": 18,
   "id": "59dceb33",
   "metadata": {},
   "outputs": [
    {
     "data": {
      "text/plain": [
       "5"
      ]
     },
     "execution_count": 18,
     "metadata": {},
     "output_type": "execute_result"
    }
   ],
   "source": [
    "func(7,2)"
   ]
  },
  {
   "cell_type": "markdown",
   "id": "6630844c",
   "metadata": {},
   "source": [
    "In addition, 'lambdify' can get more than expression:"
   ]
  },
  {
   "cell_type": "code",
   "execution_count": 19,
   "id": "de5d6dcb",
   "metadata": {},
   "outputs": [],
   "source": [
    "func = lambdify([G,I],[G-I,G+I])"
   ]
  },
  {
   "cell_type": "markdown",
   "id": "78ba05e5",
   "metadata": {},
   "source": [
    "When we pass 'func' the inputs $7,2$, it will return two solution. The first is for $G-I$, the sconde is for $G+I$"
   ]
  },
  {
   "cell_type": "code",
   "execution_count": 20,
   "id": "de34719f",
   "metadata": {},
   "outputs": [
    {
     "data": {
      "text/plain": [
       "[5, 9]"
      ]
     },
     "execution_count": 20,
     "metadata": {},
     "output_type": "execute_result"
    }
   ],
   "source": [
    "func(7,2)"
   ]
  },
  {
   "cell_type": "markdown",
   "id": "8bf6784f",
   "metadata": {},
   "source": [
    "### Now we are ready to use 'lambdify' to calulate $(dG,dI)$ for a given set of parameter $(G,I)$"
   ]
  },
  {
   "cell_type": "markdown",
   "id": "3cfb007e",
   "metadata": {},
   "source": [
    "'model.subs(parameter_values)' holds three symbolic expressions (𝑑𝐺,𝑑𝐼,𝑑𝐵) with numeric values for the parameters"
   ]
  },
  {
   "cell_type": "code",
   "execution_count": 21,
   "id": "351c4a01",
   "metadata": {},
   "outputs": [
    {
     "data": {
      "text/latex": [
       "$\\displaystyle \\left[\\begin{matrix}- G I + 0.5\\\\\\frac{G^{2}}{G^{2} + 1} - I\\end{matrix}\\right]$"
      ],
      "text/plain": [
       "Matrix([\n",
       "[         -G*I + 0.5],\n",
       "[G**2/(G**2 + 1) - I]])"
      ]
     },
     "metadata": {},
     "output_type": "display_data"
    }
   ],
   "source": [
    "display(model.subs(parameter_values))"
   ]
  },
  {
   "cell_type": "code",
   "execution_count": 22,
   "id": "fd92c8bd",
   "metadata": {},
   "outputs": [],
   "source": [
    "model_func = lambdify([G,I],model.subs(parameter_values))"
   ]
  },
  {
   "cell_type": "markdown",
   "id": "ae6f6f7f",
   "metadata": {},
   "source": [
    "For example, if G=2, I=1, We can find dG,dI:"
   ]
  },
  {
   "cell_type": "code",
   "execution_count": 23,
   "id": "60d56f58",
   "metadata": {},
   "outputs": [
    {
     "data": {
      "text/plain": [
       "array([[-1.5],\n",
       "       [-0.2]])"
      ]
     },
     "execution_count": 23,
     "metadata": {},
     "output_type": "execute_result"
    }
   ],
   "source": [
    "model_func(2,1)"
   ]
  },
  {
   "cell_type": "markdown",
   "id": "b39cbda9",
   "metadata": {},
   "source": [
    "usually we add '.flat[:]' to get the result in a 1-d array:"
   ]
  },
  {
   "cell_type": "code",
   "execution_count": 24,
   "id": "df194b84",
   "metadata": {},
   "outputs": [
    {
     "data": {
      "text/plain": [
       "array([-1.5, -0.2])"
      ]
     },
     "execution_count": 24,
     "metadata": {},
     "output_type": "execute_result"
    }
   ],
   "source": [
    "model_func(2,1).flat[:]"
   ]
  },
  {
   "cell_type": "markdown",
   "id": "f8412659",
   "metadata": {},
   "source": [
    "#### Altough it seems that we can get the same results with .subs() and lambdify,  using lambdify is much faster. But more importently, it enables us to pass our model into other python libraries."
   ]
  },
  {
   "cell_type": "markdown",
   "id": "596506b7",
   "metadata": {},
   "source": [
    "### Now we will see how to use lambdify in order to simulate the model:\n",
    "#### We build a simulation function around 'model_func'\n",
    "\n",
    "The simulation function must have the following form:\n",
    "\n",
    "First input  - list of the variables in the model $(G,I)$\n",
    "\n",
    "Second input - time $t$\n",
    "\n",
    "Returns      - list of the calculated change in each variable per $dt$ $(dG,dI)$\n",
    "\n",
    "#### A generic form for this function is:"
   ]
  },
  {
   "cell_type": "code",
   "execution_count": 25,
   "id": "931faa5d",
   "metadata": {},
   "outputs": [],
   "source": [
    "def sim(y,t):\n",
    "    G,I    = y                         # y is the list of the varibales\n",
    "    dG,dI = model_func(G,I).flat[:]\n",
    "    return dG,dI"
   ]
  },
  {
   "cell_type": "markdown",
   "id": "d10e80a1",
   "metadata": {},
   "source": [
    "#### Like before, we start by defining the time-course of the simualtion"
   ]
  },
  {
   "cell_type": "code",
   "execution_count": 26,
   "id": "2a63b48a",
   "metadata": {},
   "outputs": [],
   "source": [
    "L          = 20\n",
    "dt         = 0.1\n",
    "sim_time   = np.arange(0,L,dt)"
   ]
  },
  {
   "cell_type": "markdown",
   "id": "acf34fc6",
   "metadata": {},
   "source": [
    "To simulate the model, we use 'odeint' (ordinary differntial equation integrator)"
   ]
  },
  {
   "cell_type": "code",
   "execution_count": 27,
   "id": "9af89467",
   "metadata": {},
   "outputs": [],
   "source": [
    "from scipy.integrate import odeint"
   ]
  },
  {
   "cell_type": "markdown",
   "id": "30ef6da3",
   "metadata": {},
   "source": [
    "'odeint' gets the simulation function, the intial conditions and the time-course"
   ]
  },
  {
   "cell_type": "code",
   "execution_count": 28,
   "id": "c33714a8",
   "metadata": {},
   "outputs": [],
   "source": [
    "result = odeint(sim,ic,sim_time)"
   ]
  },
  {
   "cell_type": "markdown",
   "id": "d218a1be",
   "metadata": {},
   "source": [
    "I store the simulation result in pandas DataFrame because we can plot it easly"
   ]
  },
  {
   "cell_type": "code",
   "execution_count": 29,
   "id": "ebe4801c",
   "metadata": {},
   "outputs": [],
   "source": [
    "import pandas as pd"
   ]
  },
  {
   "cell_type": "code",
   "execution_count": 30,
   "id": "da239b06",
   "metadata": {},
   "outputs": [
    {
     "data": {
      "text/plain": [
       "<AxesSubplot:>"
      ]
     },
     "execution_count": 30,
     "metadata": {},
     "output_type": "execute_result"
    },
    {
     "data": {
      "image/png": "[encoded data removed]",
      "text/plain": [
       "<Figure size 432x288 with 1 Axes>"
      ]
     },
     "metadata": {
      "needs_background": "light"
     },
     "output_type": "display_data"
    }
   ],
   "source": [
    "result = pd.DataFrame(result,columns=['G','I'],index=sim_time/24)\n",
    "result.plot()"
   ]
  },
  {
   "cell_type": "markdown",
   "id": "54bf4804",
   "metadata": {},
   "source": [
    "In the simulation above nothing changed, we started at steady state thus the system isn't changeing"
   ]
  },
  {
   "cell_type": "markdown",
   "id": "9bfd7922",
   "metadata": {},
   "source": [
    "### We integrate the steps above and simulate the GTT using odeint"
   ]
  },
  {
   "cell_type": "code",
   "execution_count": 33,
   "id": "abaee1b3",
   "metadata": {},
   "outputs": [
    {
     "data": {
      "text/plain": [
       "<AxesSubplot:>"
      ]
     },
     "execution_count": 33,
     "metadata": {},
     "output_type": "execute_result"
    },
    {
     "data": {
      "image/png": "[encoded data removed]",
      "text/plain": [
       "<Figure size 432x288 with 1 Axes>"
      ]
     },
     "metadata": {
      "needs_background": "light"
     },
     "output_type": "display_data"
    }
   ],
   "source": [
    "dG                = m                 - s*I*G\n",
    "dI                = q*B*G**2/(1+G**2) - gamma*I\n",
    "parameter_values  = {gamma:1,q:1,s:1,B:1} \n",
    "\n",
    "model             = Matrix([dG,dI])\n",
    "ic                = solve(model.subs(parameter_values).subs(m,0.5),[G,I])[0]\n",
    "model_func        = lambdify([G,I,m],model.subs(parameter_values))\n",
    "\n",
    "def sim(y,t):\n",
    "    G,I   = y\n",
    "    mt    = 0.5+np.e**(-(t-5)**2)\n",
    "    dG,dI = model_func(G,I,mt).flat[:]\n",
    "    return dG,dI \n",
    "\n",
    "L          = 20\n",
    "dt         = 0.1\n",
    "sim_time   = np.arange(0,L,dt)\n",
    "result     = pd.DataFrame(odeint(sim,ic,sim_time),columns=['G','I'],index=sim_time)\n",
    "\n",
    "result.plot()"
   ]
  },
  {
   "cell_type": "markdown",
   "id": "dd9f7002",
   "metadata": {},
   "source": [
    "#### We can also wrap this into a function"
   ]
  },
  {
   "cell_type": "code",
   "execution_count": 34,
   "id": "53d27f68",
   "metadata": {},
   "outputs": [],
   "source": [
    "def simulate_GTT(dG,dI,parameter_values):\n",
    "    model             = Matrix([dG,dI])\n",
    "    ic                = solve(model.subs(parameter_values).subs(m,0.5),[G,I])[0]\n",
    "    model_func        = lambdify([G,I,m],model.subs(parameter_values))\n",
    "\n",
    "    def sim(y,t):\n",
    "        G,I   = y\n",
    "        mt    = 0.5+np.e**(-(t-5)**2)\n",
    "        dG,dI = model_func(G,I,mt).flat[:]\n",
    "        return dG,dI \n",
    "\n",
    "    L          = 20\n",
    "    dt         = 0.1\n",
    "    sim_time   = np.arange(0,L,dt)\n",
    "    result     = pd.DataFrame(odeint(sim,ic,sim_time),columns=['G','I'],index=sim_time)\n",
    "\n",
    "    result.plot()"
   ]
  },
  {
   "cell_type": "markdown",
   "id": "8119cde2",
   "metadata": {},
   "source": [
    "### We can easliy change some assumption of the model and observe the dynamics without calculating the steady state or writing another code"
   ]
  },
  {
   "cell_type": "markdown",
   "id": "4455b11f",
   "metadata": {},
   "source": [
    "Here we simulate the model using $f(G) = \\frac{G^2}{1+G^2}$"
   ]
  },
  {
   "cell_type": "code",
   "execution_count": 39,
   "id": "69ce0c91",
   "metadata": {},
   "outputs": [
    {
     "data": {
      "image/png": "[encoded data removed]",
      "text/plain": [
       "<Figure size 432x288 with 1 Axes>"
      ]
     },
     "metadata": {
      "needs_background": "light"
     },
     "output_type": "display_data"
    }
   ],
   "source": [
    "dG  = m                 - s*I*G\n",
    "dI  = q*B*G**2/(1+G**2) - gamma*I\n",
    "simulate_GTT(dG,dI,{gamma:1,q:1,s:1,B:1} )"
   ]
  },
  {
   "cell_type": "markdown",
   "id": "6acd791f",
   "metadata": {},
   "source": [
    "Here we simulate the model using $f(G) = G$"
   ]
  },
  {
   "cell_type": "code",
   "execution_count": 43,
   "id": "7d62f896",
   "metadata": {},
   "outputs": [
    {
     "data": {
      "image/png": "[encoded data removed]",
      "text/plain": [
       "<Figure size 432x288 with 1 Axes>"
      ]
     },
     "metadata": {
      "needs_background": "light"
     },
     "output_type": "display_data"
    }
   ],
   "source": [
    "dG  = m     - s*I*G\n",
    "dI  = q*B*G - gamma*I\n",
    "simulate_GTT(dG,dI,{gamma:1,q:1,s:1,B:1} )"
   ]
  }
 ],
 "metadata": {
  "hide_input": false,
  "kernelspec": {
   "display_name": "Python 3 (ipykernel)",
   "language": "python",
   "name": "python3"
  },
  "language_info": {
   "codemirror_mode": {
    "name": "ipython",
    "version": 3
   },
   "file_extension": ".py",
   "mimetype": "text/x-python",
   "name": "python",
   "nbconvert_exporter": "python",
   "pygments_lexer": "ipython3",
   "version": "3.7.11"
  }
 },
 "nbformat": 4,
 "nbformat_minor": 5
}
