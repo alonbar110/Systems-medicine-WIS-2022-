{
 "cells": [
  {
   "cell_type": "markdown",
   "id": "97d0239e",
   "metadata": {},
   "source": [
    "# Tutorial exercise 1 - introduction to sympy"
   ]
  },
  {
   "cell_type": "markdown",
   "id": "76d4ea87",
   "metadata": {},
   "source": [
    "#### The aim of this tutorial is to give short introduction to sympy, a python library for symbolic mathematics"
   ]
  },
  {
   "cell_type": "code",
   "execution_count": 2,
   "id": "65405479",
   "metadata": {},
   "outputs": [],
   "source": [
    "from sympy import * # importing sympy to python"
   ]
  },
  {
   "cell_type": "markdown",
   "id": "6af110fb",
   "metadata": {},
   "source": [
    "With sympy we can do symbolic mathematics in python\n",
    "\n",
    "Symbolic mathematics are what we did in highschool using a piece of paper.\n",
    "\n",
    "We write symbols that represents some entity, but we don't want to give them real values right away\n",
    "\n",
    "To get better sense of this, have a look on few examples:"
   ]
  },
  {
   "cell_type": "markdown",
   "id": "b09d06dd",
   "metadata": {},
   "source": [
    "#### In python we can create a variable which holds a numeric value\n",
    "We can performe mathematical operations on this variable"
   ]
  },
  {
   "cell_type": "code",
   "execution_count": 3,
   "id": "c3190611",
   "metadata": {},
   "outputs": [
    {
     "name": "stdout",
     "output_type": "stream",
     "text": [
      "2\n"
     ]
    }
   ],
   "source": [
    "X = 2\n",
    "print(X)"
   ]
  },
  {
   "cell_type": "code",
   "execution_count": 4,
   "id": "47addda5",
   "metadata": {},
   "outputs": [
    {
     "name": "stdout",
     "output_type": "stream",
     "text": [
      "3\n"
     ]
    }
   ],
   "source": [
    "print(X + 1)"
   ]
  },
  {
   "cell_type": "code",
   "execution_count": 5,
   "id": "8ae357f0",
   "metadata": {},
   "outputs": [
    {
     "name": "stdout",
     "output_type": "stream",
     "text": [
      "10\n"
     ]
    }
   ],
   "source": [
    "print(X*5) # In python we multiply two numbers using a single asterisk operator"
   ]
  },
  {
   "cell_type": "code",
   "execution_count": 6,
   "id": "46d1eb9c",
   "metadata": {},
   "outputs": [
    {
     "name": "stdout",
     "output_type": "stream",
     "text": [
      "8\n"
     ]
    }
   ],
   "source": [
    "print(X**3) # And double asterisk is the  power operator"
   ]
  },
  {
   "cell_type": "markdown",
   "id": "a8a72dd7",
   "metadata": {},
   "source": [
    "#### Using sympy, we create a variable which hold a *symbol*  instead of numeric value"
   ]
  },
  {
   "cell_type": "code",
   "execution_count": 5,
   "id": "70cff526",
   "metadata": {},
   "outputs": [
    {
     "name": "stdout",
     "output_type": "stream",
     "text": [
      "Y\n"
     ]
    }
   ],
   "source": [
    "Y = symbols('Y')\n",
    "print(Y)"
   ]
  },
  {
   "cell_type": "markdown",
   "id": "c04545c9",
   "metadata": {},
   "source": [
    "printing symbols is much nicer using 'display' instead of 'print'"
   ]
  },
  {
   "cell_type": "code",
   "execution_count": 6,
   "id": "17fadd5a",
   "metadata": {},
   "outputs": [
    {
     "data": {
      "text/latex": [
       "$\\displaystyle Y$"
      ],
      "text/plain": [
       "Y"
      ]
     },
     "metadata": {},
     "output_type": "display_data"
    }
   ],
   "source": [
    "display(Y)"
   ]
  },
  {
   "cell_type": "code",
   "execution_count": 7,
   "id": "d41aa285",
   "metadata": {},
   "outputs": [
    {
     "data": {
      "text/latex": [
       "$\\displaystyle Y + 1$"
      ],
      "text/plain": [
       "Y + 1"
      ]
     },
     "metadata": {},
     "output_type": "display_data"
    }
   ],
   "source": [
    "display(Y + 1)"
   ]
  },
  {
   "cell_type": "code",
   "execution_count": 8,
   "id": "a84c38b5",
   "metadata": {},
   "outputs": [
    {
     "data": {
      "text/latex": [
       "$\\displaystyle Y^{2}$"
      ],
      "text/plain": [
       "Y**2"
      ]
     },
     "metadata": {},
     "output_type": "display_data"
    }
   ],
   "source": [
    "display(Y**2)"
   ]
  },
  {
   "cell_type": "markdown",
   "id": "e4294e98",
   "metadata": {},
   "source": [
    "We can do complex mathematical actions on these symbolic expressions, like finding their deivative"
   ]
  },
  {
   "cell_type": "code",
   "execution_count": 9,
   "id": "75303b75",
   "metadata": {},
   "outputs": [
    {
     "data": {
      "text/latex": [
       "$\\displaystyle 3 Y^{2}$"
      ],
      "text/plain": [
       "3*Y**2"
      ]
     },
     "metadata": {},
     "output_type": "display_data"
    }
   ],
   "source": [
    "display((Y**3).diff(Y))"
   ]
  },
  {
   "cell_type": "markdown",
   "id": "e15cbd3b",
   "metadata": {},
   "source": [
    "sympy accepts latex syntax"
   ]
  },
  {
   "cell_type": "code",
   "execution_count": 10,
   "id": "885eae4b",
   "metadata": {},
   "outputs": [
    {
     "data": {
      "text/latex": [
       "$\\displaystyle \\gamma_{t}$"
      ],
      "text/plain": [
       "\\gamma_t"
      ]
     },
     "metadata": {},
     "output_type": "display_data"
    }
   ],
   "source": [
    "Z = symbols('\\gamma_t')\n",
    "display(Z)"
   ]
  },
  {
   "cell_type": "markdown",
   "id": "21eb26b6",
   "metadata": {},
   "source": [
    "In sympy we can also have symbolic representations of functions"
   ]
  },
  {
   "cell_type": "code",
   "execution_count": 11,
   "id": "cd767b07",
   "metadata": {},
   "outputs": [
    {
     "data": {
      "text/latex": [
       "$\\displaystyle f{\\left(Y \\right)}$"
      ],
      "text/plain": [
       "f(Y)"
      ]
     },
     "metadata": {},
     "output_type": "display_data"
    }
   ],
   "source": [
    "fY = Function('f')(Y)\n",
    "display(fY)"
   ]
  },
  {
   "cell_type": "markdown",
   "id": "b4a398bc",
   "metadata": {},
   "source": [
    "We can write equations"
   ]
  },
  {
   "cell_type": "code",
   "execution_count": 12,
   "id": "ca025482",
   "metadata": {},
   "outputs": [
    {
     "data": {
      "text/latex": [
       "$\\displaystyle 2 Y + 5 = 10$"
      ],
      "text/plain": [
       "Eq(2*Y + 5, 10)"
      ]
     },
     "execution_count": 12,
     "metadata": {},
     "output_type": "execute_result"
    }
   ],
   "source": [
    "Eq(2*Y+5,10)"
   ]
  },
  {
   "cell_type": "markdown",
   "id": "6f5d3f04",
   "metadata": {},
   "source": [
    "And solve them!"
   ]
  },
  {
   "cell_type": "code",
   "execution_count": 16,
   "id": "cb4c242e",
   "metadata": {},
   "outputs": [
    {
     "data": {
      "text/latex": [
       "$\\displaystyle Y = \\frac{5}{2}$"
      ],
      "text/plain": [
       "Eq(Y, 5/2)"
      ]
     },
     "metadata": {},
     "output_type": "display_data"
    }
   ],
   "source": [
    "ysol = solve(Eq(2*Y+5,10),Y)[0]\n",
    "display(Eq(Y,ysol))"
   ]
  }
 ],
 "metadata": {
  "kernelspec": {
   "display_name": "Python 3 (ipykernel)",
   "language": "python",
   "name": "python3"
  },
  "language_info": {
   "codemirror_mode": {
    "name": "ipython",
    "version": 3
   },
   "file_extension": ".py",
   "mimetype": "text/x-python",
   "name": "python",
   "nbconvert_exporter": "python",
   "pygments_lexer": "ipython3",
   "version": "3.7.11"
  }
 },
 "nbformat": 4,
 "nbformat_minor": 5
}
