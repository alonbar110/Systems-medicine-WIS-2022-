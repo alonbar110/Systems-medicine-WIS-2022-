{
 "cells": [
  {
   "cell_type": "markdown",
   "id": "e6ad1494",
   "metadata": {},
   "source": [
    "# Tutorial exercise 4 -  solving the steady state of the system"
   ]
  },
  {
   "cell_type": "markdown",
   "id": "e41fb135",
   "metadata": {},
   "source": [
    "#### In this tutorial we will use the sympy function 'solve' to find the mathematical expression for the steady state of the glucose insulin model"
   ]
  },
  {
   "cell_type": "code",
   "execution_count": 1,
   "id": "037a3b01",
   "metadata": {},
   "outputs": [],
   "source": [
    "from sympy import *"
   ]
  },
  {
   "cell_type": "markdown",
   "id": "2e40e909",
   "metadata": {},
   "source": [
    "### We will start with a short introduction to 'solve'\n",
    "\n",
    "solve is a sympy function that solves equations\n",
    "\n",
    "solve assumes that the first argument is equal to zero, and finds values for the second argument that satisfies the equation:"
   ]
  },
  {
   "cell_type": "markdown",
   "id": "612c4bce",
   "metadata": {},
   "source": [
    "#### Lets have a look on few examples, for that reason, we will start by declaring a symbolic variable $X$"
   ]
  },
  {
   "cell_type": "code",
   "execution_count": 2,
   "id": "17c81b6e",
   "metadata": {},
   "outputs": [],
   "source": [
    "X = symbols('X')"
   ]
  },
  {
   "cell_type": "markdown",
   "id": "24f76dbc",
   "metadata": {},
   "source": [
    "#### In order to solve $X-5=0$:"
   ]
  },
  {
   "cell_type": "code",
   "execution_count": 3,
   "id": "d4347911",
   "metadata": {},
   "outputs": [
    {
     "data": {
      "text/plain": [
       "[5]"
      ]
     },
     "execution_count": 3,
     "metadata": {},
     "output_type": "execute_result"
    }
   ],
   "source": [
    "solve(X-5,X)"
   ]
  },
  {
   "cell_type": "markdown",
   "id": "5dc319fd",
   "metadata": {},
   "source": [
    "'solve' returns a list [ ] of all the possible solutions"
   ]
  },
  {
   "cell_type": "markdown",
   "id": "9294b978",
   "metadata": {},
   "source": [
    "The only solution is $X=5$"
   ]
  },
  {
   "cell_type": "markdown",
   "id": "d8d4ba66",
   "metadata": {},
   "source": [
    "Note that we didn't excplicilty asked 'solve' to solve $X−5=0$, we only had to pass the argument $X−5$. However, it is possible to pass a full equation as the first argument:"
   ]
  },
  {
   "cell_type": "code",
   "execution_count": 11,
   "id": "e242cb97",
   "metadata": {},
   "outputs": [
    {
     "data": {
      "text/plain": [
       "[5]"
      ]
     },
     "execution_count": 11,
     "metadata": {},
     "output_type": "execute_result"
    }
   ],
   "source": [
    "solve(Eq(X-5,0),X)"
   ]
  },
  {
   "cell_type": "markdown",
   "id": "cb99c9ed",
   "metadata": {},
   "source": [
    "#### In order to solve $X-5=6X$:\n",
    "There are two options:\n",
    "1. pass the full equation"
   ]
  },
  {
   "cell_type": "code",
   "execution_count": 17,
   "id": "bd9e3d73",
   "metadata": {},
   "outputs": [
    {
     "data": {
      "text/plain": [
       "[-1]"
      ]
     },
     "execution_count": 17,
     "metadata": {},
     "output_type": "execute_result"
    }
   ],
   "source": [
    "solve(Eq(X-5,6*X),X)"
   ]
  },
  {
   "cell_type": "markdown",
   "id": "26c584c6",
   "metadata": {},
   "source": [
    "2. manually move the right hand side to the left"
   ]
  },
  {
   "cell_type": "code",
   "execution_count": 18,
   "id": "7757bf07",
   "metadata": {},
   "outputs": [
    {
     "data": {
      "text/plain": [
       "[-1]"
      ]
     },
     "execution_count": 18,
     "metadata": {},
     "output_type": "execute_result"
    }
   ],
   "source": [
    "solve(X-5-6*X,X)"
   ]
  },
  {
   "cell_type": "markdown",
   "id": "64d9a38f",
   "metadata": {},
   "source": [
    "\n",
    "\n",
    "\n",
    "\n",
    "\n",
    "#### Lets have a look on another example, $(X-3)(X-m)=0$:\n",
    "To solve this, we first have declar another symbolic variable $m$"
   ]
  },
  {
   "cell_type": "code",
   "execution_count": 4,
   "id": "e68f6be8",
   "metadata": {},
   "outputs": [
    {
     "data": {
      "text/plain": [
       "[3, m]"
      ]
     },
     "execution_count": 4,
     "metadata": {},
     "output_type": "execute_result"
    }
   ],
   "source": [
    "m = symbols('m')\n",
    "\n",
    "solve((X-3)*(X-m),X)"
   ]
  },
  {
   "cell_type": "markdown",
   "id": "d6620d5d",
   "metadata": {},
   "source": [
    "There are two solutions: $X=3, X=m$"
   ]
  },
  {
   "cell_type": "markdown",
   "id": "98094e6c",
   "metadata": {},
   "source": [
    "#### Lets have a look on another example, $X^2-4 =0 $:"
   ]
  },
  {
   "cell_type": "code",
   "execution_count": 5,
   "id": "7877ea1a",
   "metadata": {},
   "outputs": [
    {
     "data": {
      "text/plain": [
       "[-2, 2]"
      ]
     },
     "execution_count": 5,
     "metadata": {},
     "output_type": "execute_result"
    }
   ],
   "source": [
    "solve(X**2-4,X)"
   ]
  },
  {
   "cell_type": "markdown",
   "id": "dd20abea",
   "metadata": {},
   "source": [
    "There are two solutions: $X=2, X=-2$"
   ]
  },
  {
   "cell_type": "markdown",
   "id": "f0296ec6",
   "metadata": {},
   "source": [
    "#### In biology we usually deal with variables that are non-negative, for exmaple - glucose blood concetration\n",
    "We can actually tell sympy that a symbolic variable is positive.\n",
    "Lets declare a positive symbol $G$"
   ]
  },
  {
   "cell_type": "code",
   "execution_count": 6,
   "id": "f961e835",
   "metadata": {},
   "outputs": [],
   "source": [
    "G = symbols('G',positive=True)"
   ]
  },
  {
   "cell_type": "markdown",
   "id": "0472bc33",
   "metadata": {},
   "source": [
    "#### If we will try to solve the  same equation above , $G^2-4 =0 $, sympy will ignor any negative solution"
   ]
  },
  {
   "cell_type": "code",
   "execution_count": 7,
   "id": "03c9e657",
   "metadata": {},
   "outputs": [
    {
     "data": {
      "text/plain": [
       "[2]"
      ]
     },
     "execution_count": 7,
     "metadata": {},
     "output_type": "execute_result"
    }
   ],
   "source": [
    "solve(G**2-4,G)"
   ]
  },
  {
   "cell_type": "markdown",
   "id": "a603e0f3",
   "metadata": {},
   "source": [
    "We find that there is only one solution $G=2$\n",
    "\n",
    "The other solution $G=-2$ is excluded by 'solve' because we declared $G$ as positive"
   ]
  },
  {
   "cell_type": "markdown",
   "id": "3961a316",
   "metadata": {},
   "source": [
    "#### solve can handle a system of equations as well:\n",
    "Here, solve solves two equation for two variables $G,X$"
   ]
  },
  {
   "cell_type": "code",
   "execution_count": 8,
   "id": "89564a71",
   "metadata": {},
   "outputs": [
    {
     "data": {
      "text/plain": [
       "[(4, 2)]"
      ]
     },
     "execution_count": 8,
     "metadata": {},
     "output_type": "execute_result"
    }
   ],
   "source": [
    "solve([8-G*X,G-2*X],[G,X])"
   ]
  },
  {
   "cell_type": "markdown",
   "id": "01f3ff42",
   "metadata": {},
   "source": [
    "There is only one solution, where  $G=4$ and $X=2$"
   ]
  },
  {
   "cell_type": "markdown",
   "id": "a70f00ad",
   "metadata": {},
   "source": [
    "### Now we will use 'solve' to solve the GI model steady state"
   ]
  },
  {
   "cell_type": "markdown",
   "id": "86a57add",
   "metadata": {},
   "source": [
    "#### Write the differential equations for glucose and insulin using $f(G) = (G/K)^2$:\n",
    "\n",
    "$\\frac{dG}{dt} = m - sIG$\n",
    "\n",
    "$\\frac{dI}{dt} = qB(G/K)^2 - \\gamma I$\n",
    "\n",
    "#### Use solve in order to find the steady state of the system\n",
    "solve  $\\frac{dG}{dt} = 0, \\frac{dI}{dt} = 0$ for both G and I"
   ]
  },
  {
   "cell_type": "code",
   "execution_count": 9,
   "id": "a86ea0fa",
   "metadata": {},
   "outputs": [
    {
     "data": {
      "text/latex": [
       "$\\displaystyle G = \\frac{K^{\\frac{2}{3}} \\sqrt[3]{\\gamma} \\sqrt[3]{m}}{\\sqrt[3]{B} \\sqrt[3]{q} \\sqrt[3]{s}}$"
      ],
      "text/plain": [
       "Eq(G, K**(2/3)*gamma**(1/3)*m**(1/3)/(B**(1/3)*q**(1/3)*s**(1/3)))"
      ]
     },
     "metadata": {},
     "output_type": "display_data"
    },
    {
     "data": {
      "text/latex": [
       "$\\displaystyle I = \\frac{\\sqrt[3]{B} m^{\\frac{2}{3}} \\sqrt[3]{q}}{K^{\\frac{2}{3}} \\sqrt[3]{\\gamma} s^{\\frac{2}{3}}}$"
      ],
      "text/plain": [
       "Eq(I, B**(1/3)*m**(2/3)*q**(1/3)/(K**(2/3)*gamma**(1/3)*s**(2/3)))"
      ]
     },
     "metadata": {},
     "output_type": "display_data"
    }
   ],
   "source": [
    "m,s,I,G,q,B,gamma,K     = symbols('m,s,I,G,q,B,gamma,K',positive=True)\n",
    "\n",
    "dG      = m            - s*I*G\n",
    "dI      = q*B*(G/K)**2 - gamma*I\n",
    "\n",
    "Gst,Ist = solve([dG,dI],[G,I])[0]\n",
    "\n",
    "display(Eq(G,Gst))\n",
    "display(Eq(I,Ist))"
   ]
  }
 ],
 "metadata": {
  "hide_input": false,
  "kernelspec": {
   "display_name": "Python 3 (ipykernel)",
   "language": "python",
   "name": "python3"
  },
  "language_info": {
   "codemirror_mode": {
    "name": "ipython",
    "version": 3
   },
   "file_extension": ".py",
   "mimetype": "text/x-python",
   "name": "python",
   "nbconvert_exporter": "python",
   "pygments_lexer": "ipython3",
   "version": "3.7.11"
  }
 },
 "nbformat": 4,
 "nbformat_minor": 5
}
