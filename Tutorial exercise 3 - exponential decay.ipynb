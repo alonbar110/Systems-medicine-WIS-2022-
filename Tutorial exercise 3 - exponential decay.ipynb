{
 "cells": [
  {
   "cell_type": "markdown",
   "id": "9a10396a",
   "metadata": {},
   "source": [
    "# Tutorial exercise 3 -  exponential decay"
   ]
  },
  {
   "cell_type": "markdown",
   "id": "55696fe5",
   "metadata": {},
   "source": [
    "#### In this tutorial we will simulate exponential decay in python, and see how simuations and analytics agree with each other"
   ]
  },
  {
   "cell_type": "code",
   "execution_count": 1,
   "id": "12c2845b",
   "metadata": {},
   "outputs": [],
   "source": [
    "import numpy as np\n",
    "from matplotlib import pyplot as plt"
   ]
  },
  {
   "cell_type": "markdown",
   "id": "9861cad7",
   "metadata": {},
   "source": [
    "#### We will follow the exmaple in the lecture notes: $\\frac{dI}{dt} = - \\gamma I$\n",
    "\n",
    "In the leacture notes we saw that the solution $I(t)$ of the differntial equation $\\frac{dI}{dt} = - \\gamma I$ is: \n",
    "\n",
    "$I(t) = I(0)e^{-\\gamma t}$"
   ]
  },
  {
   "cell_type": "markdown",
   "id": "c8a735aa",
   "metadata": {},
   "source": [
    "#### Lets plot this solution\n",
    "\n",
    "In order to plot, we have to use numeric values\n",
    "\n",
    "We create a python function to calculate the solution above based on given numeric values:\n",
    "\n",
    "- $I(0)$ - The inital condition, the value of $I$ in at $t=0$\n",
    "- $\\gamma$ - insulin removal rate\n",
    "\n",
    "We create a function that will return a value of $I$ for a given time $t$, $I(0)$ and $\\gamma$ based on the solution above:"
   ]
  },
  {
   "cell_type": "code",
   "execution_count": 2,
   "id": "188ce9e3",
   "metadata": {},
   "outputs": [],
   "source": [
    "def I_t_func(I0,gamma,t):\n",
    "    return I0*np.e**(-gamma*t)"
   ]
  },
  {
   "cell_type": "markdown",
   "id": "d0374f11",
   "metadata": {},
   "source": [
    "Using the function, we calculate the solution $I(t)$ for $t$ in the range [0,$L$], with small timestep $dt = 0.1$\n",
    "\n",
    "$L$ is the length of the solution, we will use $L$ = 20"
   ]
  },
  {
   "cell_type": "code",
   "execution_count": 3,
   "id": "09613d2c",
   "metadata": {},
   "outputs": [],
   "source": [
    "t_range = np.arange(0,20,0.1)\n",
    "I_t_sol = I_t_func(I0=1,gamma=0.5,t=t_range)"
   ]
  },
  {
   "cell_type": "markdown",
   "id": "d18db527",
   "metadata": {},
   "source": [
    "We plot the solution using matplotlib"
   ]
  },
  {
   "cell_type": "code",
   "execution_count": 4,
   "id": "1d8bd6d4",
   "metadata": {},
   "outputs": [
    {
     "data": {
      "text/plain": [
       "Text(0, 0.5, 'I(t)')"
      ]
     },
     "execution_count": 4,
     "metadata": {},
     "output_type": "execute_result"
    },
    {
     "data": {
      "image/png": "[encoded data removed]",
      "text/plain": [
       "<Figure size 432x288 with 1 Axes>"
      ]
     },
     "metadata": {
      "needs_background": "light"
     },
     "output_type": "display_data"
    }
   ],
   "source": [
    "plt.plot(t_range,I_t_sol)\n",
    "plt.xlabel('time, t')\n",
    "plt.ylabel('I(t)')"
   ]
  },
  {
   "cell_type": "markdown",
   "id": "d3bfb8be",
   "metadata": {},
   "source": [
    "We can wrap everything above into a single function"
   ]
  },
  {
   "cell_type": "code",
   "execution_count": 5,
   "id": "4e4d4997",
   "metadata": {},
   "outputs": [],
   "source": [
    "def plot_I_t(I0,gamma,L,dt):\n",
    "    t_range = np.arange(0,L,dt)\n",
    "    I_t_sol = I0*np.e**(-gamma*t_range)\n",
    "    plt.plot(t_range,I_t_sol)\n",
    "    plt.xlabel('time, t')\n",
    "    plt.ylabel('I(t)')"
   ]
  },
  {
   "cell_type": "markdown",
   "id": "10fe44c0",
   "metadata": {},
   "source": [
    "We can plot the solution for any values of $I(0), \\gamma, L, dt$"
   ]
  },
  {
   "cell_type": "code",
   "execution_count": 6,
   "id": "b78e1d82",
   "metadata": {},
   "outputs": [
    {
     "data": {
      "image/png": "[encoded data removed]",
      "text/plain": [
       "<Figure size 432x288 with 1 Axes>"
      ]
     },
     "metadata": {
      "needs_background": "light"
     },
     "output_type": "display_data"
    }
   ],
   "source": [
    "plot_I_t(I0=2,gamma=0.3,L=30,dt=1)"
   ]
  },
  {
   "cell_type": "markdown",
   "id": "a46d711a",
   "metadata": {},
   "source": [
    "#### Lets simulate this differntial equation, to see how insulin changes over time\n",
    "\n",
    "We will use a simple method to simulate differential equations - the eular method\n",
    "\n",
    "Like before, in order to simualte, we have to:\n",
    "- choose inital condition - the value of $I$ in the start of the simulation\n",
    "- provide a numeric value for $\\gamma$, \n",
    "- decide on the length of the simualtion, $L$, and the size of the time steps, $dt$\n",
    "\n",
    "lets again use $I_0 = 1, \\gamma = 0.5, L = 20, dt = 0.1$ "
   ]
  },
  {
   "cell_type": "code",
   "execution_count": 7,
   "id": "5afb7a7d",
   "metadata": {},
   "outputs": [],
   "source": [
    "I0      = 1\n",
    "gamma   = 0.5\n",
    "dt      = 0.1\n",
    "L       = 20\n",
    "t_range = np.arange(0,L,dt)"
   ]
  },
  {
   "cell_type": "markdown",
   "id": "a96634fa",
   "metadata": {},
   "source": [
    "We loop over the time range, calculate the rate of change of $I$, $dI$, and update the value of $I$\n",
    "\n",
    "We start with $I= I_0$\n",
    "\n",
    "At each timestep, we record the value of $I$ into a list 'solution'"
   ]
  },
  {
   "cell_type": "code",
   "execution_count": 8,
   "id": "fc38d49b",
   "metadata": {},
   "outputs": [],
   "source": [
    "solution = []\n",
    "I = I0\n",
    "for t in t_range:\n",
    "    dI = -gamma*I\n",
    "    I  = I + dI*dt\n",
    "    solution.append(I)"
   ]
  },
  {
   "cell_type": "markdown",
   "id": "638c2174",
   "metadata": {},
   "source": [
    "We can plot the result of the simulation using matplotlib"
   ]
  },
  {
   "cell_type": "code",
   "execution_count": 9,
   "id": "5279b468",
   "metadata": {},
   "outputs": [
    {
     "data": {
      "text/plain": [
       "Text(0, 0.5, 'I(t)')"
      ]
     },
     "execution_count": 9,
     "metadata": {},
     "output_type": "execute_result"
    },
    {
     "data": {
      "image/png": "[encoded data removed]",
      "text/plain": [
       "<Figure size 432x288 with 1 Axes>"
      ]
     },
     "metadata": {
      "needs_background": "light"
     },
     "output_type": "display_data"
    }
   ],
   "source": [
    "plt.plot(t_range,solution)\n",
    "plt.xlabel('time, t')\n",
    "plt.ylabel('I(t)')"
   ]
  },
  {
   "cell_type": "markdown",
   "id": "3a2fa6f7",
   "metadata": {},
   "source": [
    "We can wrap the simulation into a function"
   ]
  },
  {
   "cell_type": "code",
   "execution_count": 10,
   "id": "c2e2c304",
   "metadata": {},
   "outputs": [],
   "source": [
    "def plot_eular_simulation(I0,gamma,L,dt):\n",
    "    t_range = np.arange(0,L,dt)\n",
    "    solution = []\n",
    "    I = I0\n",
    "    for t in t_range:\n",
    "        dI = -gamma*I\n",
    "        I  = I + dI*dt\n",
    "        solution.append(I)\n",
    "    \n",
    "    plt.plot(t_range,solution)\n",
    "    plt.xlabel('time, t')\n",
    "    plt.ylabel('I(t)')"
   ]
  },
  {
   "cell_type": "markdown",
   "id": "55e0bfc5",
   "metadata": {},
   "source": [
    "Finally, we can compare the analytical solution and the simulation"
   ]
  },
  {
   "cell_type": "code",
   "execution_count": 11,
   "id": "a519e4e4",
   "metadata": {},
   "outputs": [
    {
     "data": {
      "image/png": "[encoded data removed]",
      "text/plain": [
       "<Figure size 432x288 with 1 Axes>"
      ]
     },
     "metadata": {
      "needs_background": "light"
     },
     "output_type": "display_data"
    }
   ],
   "source": [
    "plot_I_t(I0=1,gamma=0.5,L=20,dt=0.1)\n",
    "plot_eular_simulation(I0=1,gamma=0.5,L=20,dt=0.1)"
   ]
  },
  {
   "cell_type": "markdown",
   "id": "25d66a14",
   "metadata": {},
   "source": [
    "They agree but there is some difference. \n",
    "\n",
    "The Eualr method is more accurate for smaller timesteps, choosing smaller $dt$ gives a better agreement between the analytical solution and the simulation"
   ]
  },
  {
   "cell_type": "code",
   "execution_count": 14,
   "id": "d2e56e56",
   "metadata": {},
   "outputs": [
    {
     "data": {
      "image/png": "[encoded data removed]",
      "text/plain": [
       "<Figure size 432x288 with 1 Axes>"
      ]
     },
     "metadata": {
      "needs_background": "light"
     },
     "output_type": "display_data"
    }
   ],
   "source": [
    "plot_I_t(I0=1,gamma=0.5,L=20,dt=0.001)\n",
    "plot_eular_simulation(I0=1,gamma=0.5,L=20,dt=0.001)"
   ]
  },
  {
   "cell_type": "markdown",
   "id": "a81e2aac",
   "metadata": {},
   "source": [
    "#### In the next tutorials, we will see how we can solve and simualte differential equations using sympy"
   ]
  }
 ],
 "metadata": {
  "kernelspec": {
   "display_name": "Python 3 (ipykernel)",
   "language": "python",
   "name": "python3"
  },
  "language_info": {
   "codemirror_mode": {
    "name": "ipython",
    "version": 3
   },
   "file_extension": ".py",
   "mimetype": "text/x-python",
   "name": "python",
   "nbconvert_exporter": "python",
   "pygments_lexer": "ipython3",
   "version": "3.7.11"
  }
 },
 "nbformat": 4,
 "nbformat_minor": 5
}
